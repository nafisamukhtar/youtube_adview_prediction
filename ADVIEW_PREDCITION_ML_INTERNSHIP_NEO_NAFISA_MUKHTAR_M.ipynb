{
  "nbformat": 4,
  "nbformat_minor": 0,
  "metadata": {
    "colab": {
      "name": "ADVIEW PREDCITION-ML_INTERNSHIP-NEO-NAFISA MUKHTAR M.ipynb",
      "provenance": [],
      "collapsed_sections": [],
      "authorship_tag": "ABX9TyMFRCj39dTII/zcpnhzU7KB",
      "include_colab_link": true
    },
    "kernelspec": {
      "name": "python3",
      "display_name": "Python 3"
    }
  },
  "cells": [
    {
      "cell_type": "markdown",
      "metadata": {
        "id": "view-in-github",
        "colab_type": "text"
      },
      "source": [
        "<a href=\"https://colab.research.google.com/github/nafisamukhtar/youtube_adview_prediction/blob/main/ADVIEW_PREDCITION_ML_INTERNSHIP_NEO_NAFISA_MUKHTAR_M.ipynb\" target=\"_parent\"><img src=\"https://colab.research.google.com/assets/colab-badge.svg\" alt=\"Open In Colab\"/></a>"
      ]
    },
    {
      "cell_type": "code",
      "metadata": {
        "colab": {
          "base_uri": "https://localhost:8080/"
        },
        "id": "3XNC-hRd15HG",
        "outputId": "a114fad3-dc86-479e-f84a-d3c28489f0e0"
      },
      "source": [
        "#Mount drive \n",
        "from google.colab import drive\n",
        "drive.mount('/content/drive')"
      ],
      "execution_count": null,
      "outputs": [
        {
          "output_type": "stream",
          "text": [
            "Drive already mounted at /content/drive; to attempt to forcibly remount, call drive.mount(\"/content/drive\", force_remount=True).\n"
          ],
          "name": "stdout"
        }
      ]
    },
    {
      "cell_type": "code",
      "metadata": {
        "colab": {
          "base_uri": "https://localhost:8080/"
        },
        "id": "Uwbo3RB-17bT",
        "outputId": "92d357fc-0322-4e8f-911c-275c134c9185"
      },
      "source": [
        "#import libraries \n",
        "#numpy- to work with array\n",
        "#pandas - to work with datamanipulation and daatframe\n",
        "#matplotlib - to work with visualization of data\n",
        "import numpy as np\n",
        "import pandas as pd\n",
        "import matplotlib.cm as cm\n",
        "import matplotlib.pyplot as plt\n",
        "# Importing data\n",
        "#path = \"\" # Put path of your folder of your data if it's not in the same folder\n",
        "data_train = pd.read_csv(\"/content/drive/MyDrive/train.csv\")\n",
        "data_train.head() #head()-prints first five rows of the datset\n",
        "data_train.shape #shape()-prints row and column count"
      ],
      "execution_count": null,
      "outputs": [
        {
          "output_type": "execute_result",
          "data": {
            "text/plain": [
              "(14999, 9)"
            ]
          },
          "metadata": {
            "tags": []
          },
          "execution_count": 239
        }
      ]
    },
    {
      "cell_type": "code",
      "metadata": {
        "colab": {
          "base_uri": "https://localhost:8080/"
        },
        "id": "5SXUcW6x2Cfg",
        "outputId": "812d0b4c-2609-4427-f4d6-c50d7539d674"
      },
      "source": [
        "print(data_train) #printing the dataset to analyse the features"
      ],
      "execution_count": null,
      "outputs": [
        {
          "output_type": "stream",
          "text": [
            "           vidid  adview    views likes  ... comment   published duration category\n",
            "0      VID_18655      40  1031602  8523  ...    1095  2016-09-14  PT7M37S        F\n",
            "1      VID_14135       2     1707    56  ...       6  2016-10-01  PT9M30S        D\n",
            "2       VID_2187       1     2023    25  ...       2  2016-07-02  PT2M16S        C\n",
            "3      VID_23096       6   620860   777  ...     153  2016-07-27  PT4M22S        H\n",
            "4      VID_10175       1      666     1  ...       0  2016-06-29    PT31S        D\n",
            "...          ...     ...      ...   ...  ...     ...         ...      ...      ...\n",
            "14994     VID_31       2   525949  1137  ...      86  2015-05-18  PT6M10S        A\n",
            "14995   VID_5861       1   665673  3849  ...     569  2015-10-20  PT3M56S        D\n",
            "14996    VID_805       4     3479    16  ...       1  2013-08-23  PT3M13S        B\n",
            "14997  VID_19843       1      963     0  ...       0  2010-10-02    PT26S        G\n",
            "14998   VID_8534       1    15212    22  ...       4  2016-02-19   PT1M1S        D\n",
            "\n",
            "[14999 rows x 9 columns]\n"
          ],
          "name": "stdout"
        }
      ]
    },
    {
      "cell_type": "code",
      "metadata": {
        "colab": {
          "base_uri": "https://localhost:8080/",
          "height": 994
        },
        "id": "dc2rWqV02Mw7",
        "outputId": "e2b23287-16ae-4c22-da23-07cf59dda8bc"
      },
      "source": [
        "# Visualization\n",
        "# Individual Plots\n",
        "plt.hist(data_train[\"category\"])\n",
        "plt.show()\n",
        "plt.plot(data_train[\"adview\"])\n",
        "plt.show()\n",
        "# Remove videos with adview greater than 2000000 as outlier\n",
        "data_train = data_train[data_train[\"adview\"] <2000000]\n",
        "# Heatmap\n",
        "import seaborn as sns\n",
        "f, ax = plt.subplots(figsize=(10, 8))\n",
        "corr = data_train.corr()\n",
        "sns.heatmap(corr, mask=np.zeros_like(corr, dtype=np.bool), cmap=sns.diverging_palette(220, 10, as_cmap=True),\n",
        "square=True, ax=ax,annot=True)\n",
        "plt.show()"
      ],
      "execution_count": null,
      "outputs": [
        {
          "output_type": "display_data",
          "data": {
            "image/png": "[encoded data removed]",
            "text/plain": [
              "<Figure size 432x288 with 1 Axes>"
            ]
          },
          "metadata": {
            "tags": [],
            "needs_background": "light"
          }
        },
        {
          "output_type": "display_data",
          "data": {
            "image/png": "[encoded data removed]",
            "text/plain": [
              "<Figure size 432x288 with 1 Axes>"
            ]
          },
          "metadata": {
            "tags": [],
            "needs_background": "light"
          }
        },
        {
          "output_type": "display_data",
          "data": {
            "image/png": "[encoded data removed]",
            "text/plain": [
              "<Figure size 720x576 with 2 Axes>"
            ]
          },
          "metadata": {
            "tags": [],
            "needs_background": "light"
          }
        }
      ]
    },
    {
      "cell_type": "code",
      "metadata": {
        "colab": {
          "base_uri": "https://localhost:8080/",
          "height": 204
        },
        "id": "BCmnfcAu2Vhc",
        "outputId": "c79c4149-074b-4676-fe6f-54117f3843bf"
      },
      "source": [
        "# Removing character \"F\" present in data\n",
        "#this is done to remove the missing characters in the dataset\n",
        "data_train=data_train[data_train.views!='F']\n",
        "data_train=data_train[data_train.likes!='F']\n",
        "data_train=data_train[data_train.dislikes!='F']\n",
        "data_train=data_train[data_train.comment!='F']\n",
        "data_train.head()\n",
        "# Assigning each category a number for Category feature i.e A to 1,B to 2 and so on...\n",
        "category={'A': 1,'B':2,'C':3,'D':4,'E':5,'F':6,'G':7,'H':8}\n",
        "data_train[\"category\"]=data_train[\"category\"].map(category)\n",
        "data_train.head()"
      ],
      "execution_count": null,
      "outputs": [
        {
          "output_type": "execute_result",
          "data": {
            "text/html": [
              "<div>\n",
              "<style scoped>\n",
              "    .dataframe tbody tr th:only-of-type {\n",
              "        vertical-align: middle;\n",
              "    }\n",
              "\n",
              "    .dataframe tbody tr th {\n",
              "        vertical-align: top;\n",
              "    }\n",
              "\n",
              "    .dataframe thead th {\n",
              "        text-align: right;\n",
              "    }\n",
              "</style>\n",
              "<table border=\"1\" class=\"dataframe\">\n",
              "  <thead>\n",
              "    <tr style=\"text-align: right;\">\n",
              "      <th></th>\n",
              "      <th>vidid</th>\n",
              "      <th>adview</th>\n",
              "      <th>views</th>\n",
              "      <th>likes</th>\n",
              "      <th>dislikes</th>\n",
              "      <th>comment</th>\n",
              "      <th>published</th>\n",
              "      <th>duration</th>\n",
              "      <th>category</th>\n",
              "    </tr>\n",
              "  </thead>\n",
              "  <tbody>\n",
              "    <tr>\n",
              "      <th>0</th>\n",
              "      <td>VID_18655</td>\n",
              "      <td>40</td>\n",
              "      <td>1031602</td>\n",
              "      <td>8523</td>\n",
              "      <td>363</td>\n",
              "      <td>1095</td>\n",
              "      <td>2016-09-14</td>\n",
              "      <td>PT7M37S</td>\n",
              "      <td>6</td>\n",
              "    </tr>\n",
              "    <tr>\n",
              "      <th>1</th>\n",
              "      <td>VID_14135</td>\n",
              "      <td>2</td>\n",
              "      <td>1707</td>\n",
              "      <td>56</td>\n",
              "      <td>2</td>\n",
              "      <td>6</td>\n",
              "      <td>2016-10-01</td>\n",
              "      <td>PT9M30S</td>\n",
              "      <td>4</td>\n",
              "    </tr>\n",
              "    <tr>\n",
              "      <th>2</th>\n",
              "      <td>VID_2187</td>\n",
              "      <td>1</td>\n",
              "      <td>2023</td>\n",
              "      <td>25</td>\n",
              "      <td>0</td>\n",
              "      <td>2</td>\n",
              "      <td>2016-07-02</td>\n",
              "      <td>PT2M16S</td>\n",
              "      <td>3</td>\n",
              "    </tr>\n",
              "    <tr>\n",
              "      <th>3</th>\n",
              "      <td>VID_23096</td>\n",
              "      <td>6</td>\n",
              "      <td>620860</td>\n",
              "      <td>777</td>\n",
              "      <td>161</td>\n",
              "      <td>153</td>\n",
              "      <td>2016-07-27</td>\n",
              "      <td>PT4M22S</td>\n",
              "      <td>8</td>\n",
              "    </tr>\n",
              "    <tr>\n",
              "      <th>4</th>\n",
              "      <td>VID_10175</td>\n",
              "      <td>1</td>\n",
              "      <td>666</td>\n",
              "      <td>1</td>\n",
              "      <td>0</td>\n",
              "      <td>0</td>\n",
              "      <td>2016-06-29</td>\n",
              "      <td>PT31S</td>\n",
              "      <td>4</td>\n",
              "    </tr>\n",
              "  </tbody>\n",
              "</table>\n",
              "</div>"
            ],
            "text/plain": [
              "       vidid  adview    views likes  ... comment   published duration category\n",
              "0  VID_18655      40  1031602  8523  ...    1095  2016-09-14  PT7M37S        6\n",
              "1  VID_14135       2     1707    56  ...       6  2016-10-01  PT9M30S        4\n",
              "2   VID_2187       1     2023    25  ...       2  2016-07-02  PT2M16S        3\n",
              "3  VID_23096       6   620860   777  ...     153  2016-07-27  PT4M22S        8\n",
              "4  VID_10175       1      666     1  ...       0  2016-06-29    PT31S        4\n",
              "\n",
              "[5 rows x 9 columns]"
            ]
          },
          "metadata": {
            "tags": []
          },
          "execution_count": 242
        }
      ]
    },
    {
      "cell_type": "code",
      "metadata": {
        "colab": {
          "base_uri": "https://localhost:8080/",
          "height": 204
        },
        "id": "FP9rQMtc2WKt",
        "outputId": "fdc737ad-10b0-4c62-a768-44f2f2764067"
      },
      "source": [
        "#Convert values to integers for views, likes, comments, dislikes and adview\n",
        "data_train[\"views\"] = pd.to_numeric(data_train[\"views\"])\n",
        "data_train[\"comment\"] = pd.to_numeric(data_train[\"comment\"])\n",
        "data_train[\"likes\"] = pd.to_numeric(data_train[\"likes\"])\n",
        "data_train[\"dislikes\"] = pd.to_numeric(data_train[\"dislikes\"])\n",
        "data_train[\"adview\"]=pd.to_numeric(data_train[\"adview\"])\n",
        "column_vidid=data_train['vidid']\n",
        "# Endoding features like Category, Duration, Vidid\n",
        "from sklearn.preprocessing import LabelEncoder\n",
        "data_train['duration']=LabelEncoder().fit_transform(data_train['duration'])\n",
        "data_train['vidid']=LabelEncoder().fit_transform(data_train['vidid'])\n",
        "data_train['published']=LabelEncoder().fit_transform(data_train['published'])\n",
        "data_train.head()\n"
      ],
      "execution_count": null,
      "outputs": [
        {
          "output_type": "execute_result",
          "data": {
            "text/html": [
              "<div>\n",
              "<style scoped>\n",
              "    .dataframe tbody tr th:only-of-type {\n",
              "        vertical-align: middle;\n",
              "    }\n",
              "\n",
              "    .dataframe tbody tr th {\n",
              "        vertical-align: top;\n",
              "    }\n",
              "\n",
              "    .dataframe thead th {\n",
              "        text-align: right;\n",
              "    }\n",
              "</style>\n",
              "<table border=\"1\" class=\"dataframe\">\n",
              "  <thead>\n",
              "    <tr style=\"text-align: right;\">\n",
              "      <th></th>\n",
              "      <th>vidid</th>\n",
              "      <th>adview</th>\n",
              "      <th>views</th>\n",
              "      <th>likes</th>\n",
              "      <th>dislikes</th>\n",
              "      <th>comment</th>\n",
              "      <th>published</th>\n",
              "      <th>duration</th>\n",
              "      <th>category</th>\n",
              "    </tr>\n",
              "  </thead>\n",
              "  <tbody>\n",
              "    <tr>\n",
              "      <th>0</th>\n",
              "      <td>5912</td>\n",
              "      <td>40</td>\n",
              "      <td>1031602</td>\n",
              "      <td>8523</td>\n",
              "      <td>363</td>\n",
              "      <td>1095</td>\n",
              "      <td>2168</td>\n",
              "      <td>2925</td>\n",
              "      <td>6</td>\n",
              "    </tr>\n",
              "    <tr>\n",
              "      <th>1</th>\n",
              "      <td>2741</td>\n",
              "      <td>2</td>\n",
              "      <td>1707</td>\n",
              "      <td>56</td>\n",
              "      <td>2</td>\n",
              "      <td>6</td>\n",
              "      <td>2185</td>\n",
              "      <td>3040</td>\n",
              "      <td>4</td>\n",
              "    </tr>\n",
              "    <tr>\n",
              "      <th>2</th>\n",
              "      <td>8138</td>\n",
              "      <td>1</td>\n",
              "      <td>2023</td>\n",
              "      <td>25</td>\n",
              "      <td>0</td>\n",
              "      <td>2</td>\n",
              "      <td>2094</td>\n",
              "      <td>1863</td>\n",
              "      <td>3</td>\n",
              "    </tr>\n",
              "    <tr>\n",
              "      <th>3</th>\n",
              "      <td>9004</td>\n",
              "      <td>6</td>\n",
              "      <td>620860</td>\n",
              "      <td>777</td>\n",
              "      <td>161</td>\n",
              "      <td>153</td>\n",
              "      <td>2119</td>\n",
              "      <td>2546</td>\n",
              "      <td>8</td>\n",
              "    </tr>\n",
              "    <tr>\n",
              "      <th>4</th>\n",
              "      <td>122</td>\n",
              "      <td>1</td>\n",
              "      <td>666</td>\n",
              "      <td>1</td>\n",
              "      <td>0</td>\n",
              "      <td>0</td>\n",
              "      <td>2091</td>\n",
              "      <td>1963</td>\n",
              "      <td>4</td>\n",
              "    </tr>\n",
              "  </tbody>\n",
              "</table>\n",
              "</div>"
            ],
            "text/plain": [
              "   vidid  adview    views  likes  ...  comment  published  duration  category\n",
              "0   5912      40  1031602   8523  ...     1095       2168      2925         6\n",
              "1   2741       2     1707     56  ...        6       2185      3040         4\n",
              "2   8138       1     2023     25  ...        2       2094      1863         3\n",
              "3   9004       6   620860    777  ...      153       2119      2546         8\n",
              "4    122       1      666      1  ...        0       2091      1963         4\n",
              "\n",
              "[5 rows x 9 columns]"
            ]
          },
          "metadata": {
            "tags": []
          },
          "execution_count": 243
        }
      ]
    },
    {
      "cell_type": "code",
      "metadata": {
        "colab": {
          "base_uri": "https://localhost:8080/",
          "height": 204
        },
        "id": "zhVPzWY32eI8",
        "outputId": "8e5f7016-64cd-4ab0-c6f6-b50101a04267"
      },
      "source": [
        "# Convert Time_in_sec for duration\n",
        "import datetime\n",
        "import time\n",
        "def checki(x):\n",
        "   y = x[2:]\n",
        "   h = ''\n",
        "   m = ''\n",
        "   s = ''\n",
        "   mm = ''\n",
        "   P = ['H','M','S']\n",
        "   for i in y:\n",
        "     if i not in P:\n",
        "       mm+=i\n",
        "     else:\n",
        "       if(i==\"H\"):\n",
        "         h = mm\n",
        "         mm = ''\n",
        "       elif(i == \"M\"):\n",
        "         m = mm\n",
        "         mm = ''\n",
        "       else:\n",
        "         s = mm\n",
        "         mm = ''\n",
        "   if(h==''):\n",
        "     h = '00'\n",
        "   if(m == ''):\n",
        "     m = '00'\n",
        "   if(s==''):\n",
        "     s='00'\n",
        "   bp = h+':'+m+':'+s\n",
        "   return bp\n",
        "train=pd.read_csv(\"/content/drive/MyDrive/train.csv\")\n",
        "mp = pd.read_csv( \"/content/drive/MyDrive/train.csv\")[\"duration\"]\n",
        "time = mp.apply(checki)\n",
        "def func_sec(time_string):\n",
        "   h, m, s = time_string.split(':')\n",
        "   return int(h) * 3600 + int(m) * 60 + int(s)\n",
        "time1=time.apply(func_sec)\n",
        "data_train[\"duration\"]=time1\n",
        "data_train.head()"
      ],
      "execution_count": null,
      "outputs": [
        {
          "output_type": "execute_result",
          "data": {
            "text/html": [
              "<div>\n",
              "<style scoped>\n",
              "    .dataframe tbody tr th:only-of-type {\n",
              "        vertical-align: middle;\n",
              "    }\n",
              "\n",
              "    .dataframe tbody tr th {\n",
              "        vertical-align: top;\n",
              "    }\n",
              "\n",
              "    .dataframe thead th {\n",
              "        text-align: right;\n",
              "    }\n",
              "</style>\n",
              "<table border=\"1\" class=\"dataframe\">\n",
              "  <thead>\n",
              "    <tr style=\"text-align: right;\">\n",
              "      <th></th>\n",
              "      <th>vidid</th>\n",
              "      <th>adview</th>\n",
              "      <th>views</th>\n",
              "      <th>likes</th>\n",
              "      <th>dislikes</th>\n",
              "      <th>comment</th>\n",
              "      <th>published</th>\n",
              "      <th>duration</th>\n",
              "      <th>category</th>\n",
              "    </tr>\n",
              "  </thead>\n",
              "  <tbody>\n",
              "    <tr>\n",
              "      <th>0</th>\n",
              "      <td>5912</td>\n",
              "      <td>40</td>\n",
              "      <td>1031602</td>\n",
              "      <td>8523</td>\n",
              "      <td>363</td>\n",
              "      <td>1095</td>\n",
              "      <td>2168</td>\n",
              "      <td>457</td>\n",
              "      <td>6</td>\n",
              "    </tr>\n",
              "    <tr>\n",
              "      <th>1</th>\n",
              "      <td>2741</td>\n",
              "      <td>2</td>\n",
              "      <td>1707</td>\n",
              "      <td>56</td>\n",
              "      <td>2</td>\n",
              "      <td>6</td>\n",
              "      <td>2185</td>\n",
              "      <td>570</td>\n",
              "      <td>4</td>\n",
              "    </tr>\n",
              "    <tr>\n",
              "      <th>2</th>\n",
              "      <td>8138</td>\n",
              "      <td>1</td>\n",
              "      <td>2023</td>\n",
              "      <td>25</td>\n",
              "      <td>0</td>\n",
              "      <td>2</td>\n",
              "      <td>2094</td>\n",
              "      <td>136</td>\n",
              "      <td>3</td>\n",
              "    </tr>\n",
              "    <tr>\n",
              "      <th>3</th>\n",
              "      <td>9004</td>\n",
              "      <td>6</td>\n",
              "      <td>620860</td>\n",
              "      <td>777</td>\n",
              "      <td>161</td>\n",
              "      <td>153</td>\n",
              "      <td>2119</td>\n",
              "      <td>262</td>\n",
              "      <td>8</td>\n",
              "    </tr>\n",
              "    <tr>\n",
              "      <th>4</th>\n",
              "      <td>122</td>\n",
              "      <td>1</td>\n",
              "      <td>666</td>\n",
              "      <td>1</td>\n",
              "      <td>0</td>\n",
              "      <td>0</td>\n",
              "      <td>2091</td>\n",
              "      <td>31</td>\n",
              "      <td>4</td>\n",
              "    </tr>\n",
              "  </tbody>\n",
              "</table>\n",
              "</div>"
            ],
            "text/plain": [
              "   vidid  adview    views  likes  ...  comment  published  duration  category\n",
              "0   5912      40  1031602   8523  ...     1095       2168       457         6\n",
              "1   2741       2     1707     56  ...        6       2185       570         4\n",
              "2   8138       1     2023     25  ...        2       2094       136         3\n",
              "3   9004       6   620860    777  ...      153       2119       262         8\n",
              "4    122       1      666      1  ...        0       2091        31         4\n",
              "\n",
              "[5 rows x 9 columns]"
            ]
          },
          "metadata": {
            "tags": []
          },
          "execution_count": 244
        }
      ]
    },
    {
      "cell_type": "code",
      "metadata": {
        "colab": {
          "base_uri": "https://localhost:8080/",
          "height": 405
        },
        "id": "nEUjf61T2kxt",
        "outputId": "4b4848ae-94b5-4136-b761-dfaff35fc59a"
      },
      "source": [
        "fig,ax = plt.subplots(figsize=(8,6))\n",
        "sns.regplot(x = 'likes', y='dislikes',data=data_train,ax=ax) #regplot for two parameters of the train dataset"
      ],
      "execution_count": null,
      "outputs": [
        {
          "output_type": "execute_result",
          "data": {
            "text/plain": [
              "<matplotlib.axes._subplots.AxesSubplot at 0x7ff8a53f9c50>"
            ]
          },
          "metadata": {
            "tags": []
          },
          "execution_count": 245
        },
        {
          "output_type": "display_data",
          "data": {
            "image/png": "[encoded data removed]",
            "text/plain": [
              "<Figure size 576x432 with 1 Axes>"
            ]
          },
          "metadata": {
            "tags": [],
            "needs_background": "light"
          }
        }
      ]
    },
    {
      "cell_type": "code",
      "metadata": {
        "colab": {
          "base_uri": "https://localhost:8080/",
          "height": 512
        },
        "id": "UEQwlEIJ2oOo",
        "outputId": "d72e8967-cb75-4594-d563-fa8b90444322"
      },
      "source": [
        "# prints data that will be plotted \n",
        "# columns shown here are selected by corr() since they are ideal for the plot \n",
        "print(data_train.corr()) \n",
        "  \n",
        "# plotting correlation heatmap \n",
        "dataplot = sns.heatmap(data_train.corr(), cmap=\"YlGnBu\", annot=True) \n",
        "  \n",
        "# displaying heatmap \n",
        "plt.show() "
      ],
      "execution_count": null,
      "outputs": [
        {
          "output_type": "stream",
          "text": [
            "              vidid    adview     views  ...  published  duration  category\n",
            "vidid      1.000000 -0.031081 -0.047582  ...  -0.144474  0.006912 -0.038894\n",
            "adview    -0.031081  1.000000  0.031177  ...   0.055657 -0.019592 -0.004910\n",
            "views     -0.047582  0.031177  1.000000  ...   0.020110  0.002563  0.032822\n",
            "likes     -0.128861  0.046541  0.726599  ...   0.096941 -0.042518 -0.009175\n",
            "dislikes  -0.076461  0.016686  0.730216  ...   0.043745  0.001587  0.011355\n",
            "comment   -0.081060  0.017631  0.410597  ...   0.114253 -0.037478 -0.034107\n",
            "published -0.144474  0.055657  0.020110  ...   1.000000  0.011976 -0.056814\n",
            "duration   0.006912 -0.019592  0.002563  ...   0.011976  1.000000  0.049235\n",
            "category  -0.038894 -0.004910  0.032822  ...  -0.056814  0.049235  1.000000\n",
            "\n",
            "[9 rows x 9 columns]\n"
          ],
          "name": "stdout"
        },
        {
          "output_type": "display_data",
          "data": {
            "image/png": "[encoded data removed]",
            "text/plain": [
              "<Figure size 432x288 with 2 Axes>"
            ]
          },
          "metadata": {
            "tags": [],
            "needs_background": "light"
          }
        }
      ]
    },
    {
      "cell_type": "code",
      "metadata": {
        "colab": {
          "base_uri": "https://localhost:8080/",
          "height": 307
        },
        "id": "2ji4tbqZ2rdm",
        "outputId": "87c87b43-f022-4f45-b192-e72758e97647"
      },
      "source": [
        "# The first way we can plot things is using the .plot extension from Pandas dataframes\n",
        "# We'll use this to make a scatterplot of the features present in  the traning dataset.\n",
        "data_train.plot(kind=\"scatter\", x=\"vidid\", y=\"views\")"
      ],
      "execution_count": null,
      "outputs": [
        {
          "output_type": "execute_result",
          "data": {
            "text/plain": [
              "<matplotlib.axes._subplots.AxesSubplot at 0x7ff8a5573940>"
            ]
          },
          "metadata": {
            "tags": []
          },
          "execution_count": 247
        },
        {
          "output_type": "display_data",
          "data": {
            "image/png": "[encoded data removed]",
            "text/plain": [
              "<Figure size 432x288 with 1 Axes>"
            ]
          },
          "metadata": {
            "tags": [],
            "needs_background": "light"
          }
        }
      ]
    },
    {
      "cell_type": "code",
      "metadata": {
        "colab": {
          "base_uri": "https://localhost:8080/",
          "height": 386
        },
        "id": "i5CfSj_M2uCu",
        "outputId": "066fec01-b925-42a5-f213-60f5a65b9c1f"
      },
      "source": [
        "# We can also use the seaborn library to make a similar plot\n",
        "# A seaborn jointplot shows bivariate scatterplots and univariate histograms in the same figure\n",
        "sns.jointplot(x=\"vidid\", y=\"likes\", data=data_train,height=5)"
      ],
      "execution_count": null,
      "outputs": [
        {
          "output_type": "execute_result",
          "data": {
            "text/plain": [
              "<seaborn.axisgrid.JointGrid at 0x7ff8a381ada0>"
            ]
          },
          "metadata": {
            "tags": []
          },
          "execution_count": 248
        },
        {
          "output_type": "display_data",
          "data": {
            "image/png": "[encoded data removed]",
            "text/plain": [
              "<Figure size 360x360 with 3 Axes>"
            ]
          },
          "metadata": {
            "tags": [],
            "needs_background": "light"
          }
        }
      ]
    },
    {
      "cell_type": "code",
      "metadata": {
        "colab": {
          "base_uri": "https://localhost:8080/"
        },
        "id": "YA6dqlPG2yRb",
        "outputId": "850b264b-e1b1-4da0-9d56-6b5c42fd0af9"
      },
      "source": [
        "# Split Data and drop specific columns \n",
        "Y_train = pd.DataFrame(data = data_train.iloc[:, 1].values, columns = ['target'])\n",
        "data_train=data_train.drop([\"adview\"],axis=1)\n",
        "data_train.head()\n",
        "#splitting the dataset into train and test \n",
        "from sklearn.model_selection import train_test_split\n",
        "X_train, X_test, y_train, y_test = train_test_split(data_train, Y_train, test_size=0.2, random_state=42)\n",
        "X_train.shape\n",
        "# Normalise Data\n",
        "from sklearn.preprocessing import MinMaxScaler\n",
        "scaler = MinMaxScaler()\n",
        "#The MinMaxScaler transforms the features by scaling them to a given range\n",
        "X_train=scaler.fit_transform(X_train)\n",
        "X_test=scaler.fit_transform(X_test)\n",
        "X_train.mean()"
      ],
      "execution_count": null,
      "outputs": [
        {
          "output_type": "execute_result",
          "data": {
            "text/plain": [
              "0.21445701548059948"
            ]
          },
          "metadata": {
            "tags": []
          },
          "execution_count": 249
        }
      ]
    },
    {
      "cell_type": "code",
      "metadata": {
        "colab": {
          "base_uri": "https://localhost:8080/"
        },
        "id": "zaQtY4Eq26NV",
        "outputId": "6f7ebee1-2b00-4336-ef5a-b1a776415e6f"
      },
      "source": [
        "data_train\n",
        "data_train.shape #printing the shape after preprocessing the data"
      ],
      "execution_count": null,
      "outputs": [
        {
          "output_type": "execute_result",
          "data": {
            "text/plain": [
              "(14636, 8)"
            ]
          },
          "metadata": {
            "tags": []
          },
          "execution_count": 250
        }
      ]
    },
    {
      "cell_type": "code",
      "metadata": {
        "id": "NzqwjX0i29vV"
      },
      "source": [
        "# Evaluation Metrics\n",
        "from sklearn import metrics\n",
        "#defining a function to print mean absolute error,mean squared error and root mean squared error\n",
        "def print_error(X_test, y_test, model_name):\n",
        " prediction = model_name.predict(X_test)\n",
        " print('Mean Absolute Error:', metrics.mean_absolute_error(y_test, prediction))\n",
        " print('Mean Squared Error:', metrics.mean_squared_error(y_test, prediction))\n",
        " print('Root Mean Squared Error:', np.sqrt(metrics.mean_squared_error(y_test, prediction)))"
      ],
      "execution_count": null,
      "outputs": []
    },
    {
      "cell_type": "code",
      "metadata": {
        "colab": {
          "base_uri": "https://localhost:8080/"
        },
        "id": "0Brrm3Xl3HGX",
        "outputId": "af50ca84-aed8-4d93-d743-fd364ba83807"
      },
      "source": [
        "# Linear Regression\n",
        "from sklearn import linear_model\n",
        "linear_regression = linear_model.LinearRegression()\n",
        "linear_regression.fit(X_train, y_train)\n",
        "print_error(X_test,y_test, linear_regression)\n"
      ],
      "execution_count": null,
      "outputs": [
        {
          "output_type": "stream",
          "text": [
            "Mean Absolute Error: 3727.4793234398294\n",
            "Mean Squared Error: 834848577.7931217\n",
            "Root Mean Squared Error: 28893.74634402956\n"
          ],
          "name": "stdout"
        }
      ]
    },
    {
      "cell_type": "code",
      "metadata": {
        "colab": {
          "base_uri": "https://localhost:8080/"
        },
        "id": "ABUboB533yRo",
        "outputId": "ab1d2ce9-112b-4881-e940-f76b8c29177a"
      },
      "source": [
        "# Support Vector Regressor\n",
        "from sklearn.svm import SVR\n",
        "supportvector_regressor = SVR()\n",
        "supportvector_regressor.fit(X_train,y_train)\n",
        "print_error(X_test,y_test,supportvector_regressor)\n"
      ],
      "execution_count": null,
      "outputs": [
        {
          "output_type": "stream",
          "text": [
            "/usr/local/lib/python3.6/dist-packages/sklearn/utils/validation.py:760: DataConversionWarning: A column-vector y was passed when a 1d array was expected. Please change the shape of y to (n_samples, ), for example using ravel().\n",
            "  y = column_or_1d(y, warn=True)\n"
          ],
          "name": "stderr"
        },
        {
          "output_type": "stream",
          "text": [
            "Mean Absolute Error: 1696.939651284359\n",
            "Mean Squared Error: 833685622.805953\n",
            "Root Mean Squared Error: 28873.61464738963\n"
          ],
          "name": "stdout"
        }
      ]
    },
    {
      "cell_type": "code",
      "metadata": {
        "colab": {
          "base_uri": "https://localhost:8080/"
        },
        "id": "Nyip2oWx32fF",
        "outputId": "aab81fb5-e79c-41cf-be27-3f92ab606542"
      },
      "source": [
        "# Decision Tree Regressor\n",
        "from sklearn.tree import DecisionTreeRegressor\n",
        "decision_tree = DecisionTreeRegressor()\n",
        "decision_tree.fit(X_train, y_train)\n",
        "print_error(X_test,y_test, decision_tree)"
      ],
      "execution_count": null,
      "outputs": [
        {
          "output_type": "stream",
          "text": [
            "Mean Absolute Error: 2203.60075136612\n",
            "Mean Squared Error: 562183198.243511\n",
            "Root Mean Squared Error: 23710.402743173952\n"
          ],
          "name": "stdout"
        }
      ]
    },
    {
      "cell_type": "code",
      "metadata": {
        "colab": {
          "base_uri": "https://localhost:8080/"
        },
        "id": "aBhJavp04H61",
        "outputId": "a5202cc1-3359-4256-a9cb-cb6e0cd9aafc"
      },
      "source": [
        "# Random Forest Regressor\n",
        "from sklearn.ensemble import RandomForestRegressor\n",
        "n_estimators = 200\n",
        "max_depth = 25\n",
        "min_samples_split=15\n",
        "min_samples_leaf=2\n",
        "random_forest = RandomForestRegressor(n_estimators = n_estimators, max_depth = max_depth, min_samples_split=min_samples_split)\n",
        "random_forest.fit(X_train,y_train)\n",
        "print_error(X_test,y_test, random_forest)"
      ],
      "execution_count": null,
      "outputs": [
        {
          "output_type": "stream",
          "text": [
            "/usr/local/lib/python3.6/dist-packages/ipykernel_launcher.py:8: DataConversionWarning: A column-vector y was passed when a 1d array was expected. Please change the shape of y to (n_samples,), for example using ravel().\n",
            "  \n"
          ],
          "name": "stderr"
        },
        {
          "output_type": "stream",
          "text": [
            "Mean Absolute Error: 3289.116249551468\n",
            "Mean Squared Error: 632957571.2973855\n",
            "Root Mean Squared Error: 25158.648041923585\n"
          ],
          "name": "stdout"
        }
      ]
    },
    {
      "cell_type": "code",
      "metadata": {
        "id": "5v6HDdfU4UY3"
      },
      "source": [
        "# Artificial Neural Network\n",
        "import keras\n",
        "from keras.layers import Dense\n",
        "ann = keras.models.Sequential([\n",
        "Dense(6, activation=\"relu\",\n",
        "input_shape=X_train.shape[1:]),\n",
        "Dense(6,activation=\"relu\"),\n",
        "Dense(1)\n",
        "])\n",
        "optimizer=keras.optimizers.Adam()\n",
        "loss=keras.losses.mean_squared_error\n",
        "ann.compile(optimizer=optimizer,loss=loss,metrics=[\"mean_squared_error\"])"
      ],
      "execution_count": null,
      "outputs": []
    },
    {
      "cell_type": "code",
      "metadata": {
        "colab": {
          "base_uri": "https://localhost:8080/"
        },
        "id": "HwjqUnTL4gmR",
        "outputId": "29b2bd99-17d0-4aba-9c1b-98a234161fc0"
      },
      "source": [
        "history=ann.fit(X_train,y_train,epochs=100)\n",
        "ann.summary()\n",
        "print_error(X_test,y_test,ann)\n"
      ],
      "execution_count": null,
      "outputs": [
        {
          "output_type": "stream",
          "text": [
            "Epoch 1/100\n",
            "366/366 [==============================] - 0s 917us/step - loss: 767406784.0000 - mean_squared_error: 767406784.0000\n",
            "Epoch 2/100\n",
            "366/366 [==============================] - 0s 919us/step - loss: 767402432.0000 - mean_squared_error: 767402432.0000\n",
            "Epoch 3/100\n",
            "366/366 [==============================] - 0s 891us/step - loss: 767392512.0000 - mean_squared_error: 767392512.0000\n",
            "Epoch 4/100\n",
            "366/366 [==============================] - 0s 901us/step - loss: 767372160.0000 - mean_squared_error: 767372160.0000\n",
            "Epoch 5/100\n",
            "366/366 [==============================] - 0s 945us/step - loss: 767339712.0000 - mean_squared_error: 767339712.0000\n",
            "Epoch 6/100\n",
            "366/366 [==============================] - 0s 952us/step - loss: 767295936.0000 - mean_squared_error: 767295936.0000\n",
            "Epoch 7/100\n",
            "366/366 [==============================] - 0s 907us/step - loss: 767238272.0000 - mean_squared_error: 767238272.0000\n",
            "Epoch 8/100\n",
            "366/366 [==============================] - 0s 936us/step - loss: 767167936.0000 - mean_squared_error: 767167936.0000\n",
            "Epoch 9/100\n",
            "366/366 [==============================] - 0s 891us/step - loss: 767086720.0000 - mean_squared_error: 767086720.0000\n",
            "Epoch 10/100\n",
            "366/366 [==============================] - 0s 907us/step - loss: 766994112.0000 - mean_squared_error: 766994112.0000\n",
            "Epoch 11/100\n",
            "366/366 [==============================] - 0s 905us/step - loss: 766889984.0000 - mean_squared_error: 766889984.0000\n",
            "Epoch 12/100\n",
            "366/366 [==============================] - 0s 905us/step - loss: 766775744.0000 - mean_squared_error: 766775744.0000\n",
            "Epoch 13/100\n",
            "366/366 [==============================] - 0s 991us/step - loss: 766655872.0000 - mean_squared_error: 766655872.0000\n",
            "Epoch 14/100\n",
            "366/366 [==============================] - 0s 920us/step - loss: 766536384.0000 - mean_squared_error: 766536384.0000\n",
            "Epoch 15/100\n",
            "366/366 [==============================] - 0s 906us/step - loss: 766415360.0000 - mean_squared_error: 766415360.0000\n",
            "Epoch 16/100\n",
            "366/366 [==============================] - 0s 899us/step - loss: 766288000.0000 - mean_squared_error: 766288000.0000\n",
            "Epoch 17/100\n",
            "366/366 [==============================] - 0s 935us/step - loss: 766154368.0000 - mean_squared_error: 766154368.0000\n",
            "Epoch 18/100\n",
            "366/366 [==============================] - 0s 912us/step - loss: 766022592.0000 - mean_squared_error: 766022592.0000\n",
            "Epoch 19/100\n",
            "366/366 [==============================] - 0s 912us/step - loss: 765894656.0000 - mean_squared_error: 765894656.0000\n",
            "Epoch 20/100\n",
            "366/366 [==============================] - 0s 917us/step - loss: 765771904.0000 - mean_squared_error: 765771904.0000\n",
            "Epoch 21/100\n",
            "366/366 [==============================] - 0s 916us/step - loss: 765655808.0000 - mean_squared_error: 765655808.0000\n",
            "Epoch 22/100\n",
            "366/366 [==============================] - 0s 936us/step - loss: 765544576.0000 - mean_squared_error: 765544576.0000\n",
            "Epoch 23/100\n",
            "366/366 [==============================] - 0s 940us/step - loss: 765436672.0000 - mean_squared_error: 765436672.0000\n",
            "Epoch 24/100\n",
            "366/366 [==============================] - 0s 939us/step - loss: 765334016.0000 - mean_squared_error: 765334016.0000\n",
            "Epoch 25/100\n",
            "366/366 [==============================] - 0s 914us/step - loss: 765240256.0000 - mean_squared_error: 765240256.0000\n",
            "Epoch 26/100\n",
            "366/366 [==============================] - 0s 952us/step - loss: 765147840.0000 - mean_squared_error: 765147840.0000\n",
            "Epoch 27/100\n",
            "366/366 [==============================] - 0s 925us/step - loss: 765063168.0000 - mean_squared_error: 765063168.0000\n",
            "Epoch 28/100\n",
            "366/366 [==============================] - 0s 896us/step - loss: 764986368.0000 - mean_squared_error: 764986368.0000\n",
            "Epoch 29/100\n",
            "366/366 [==============================] - 0s 950us/step - loss: 764914432.0000 - mean_squared_error: 764914432.0000\n",
            "Epoch 30/100\n",
            "366/366 [==============================] - 0s 909us/step - loss: 764847872.0000 - mean_squared_error: 764847872.0000\n",
            "Epoch 31/100\n",
            "366/366 [==============================] - 0s 911us/step - loss: 764784640.0000 - mean_squared_error: 764784640.0000\n",
            "Epoch 32/100\n",
            "366/366 [==============================] - 0s 936us/step - loss: 764728128.0000 - mean_squared_error: 764728128.0000\n",
            "Epoch 33/100\n",
            "366/366 [==============================] - 0s 914us/step - loss: 764674432.0000 - mean_squared_error: 764674432.0000\n",
            "Epoch 34/100\n",
            "366/366 [==============================] - 0s 910us/step - loss: 764626304.0000 - mean_squared_error: 764626304.0000\n",
            "Epoch 35/100\n",
            "366/366 [==============================] - 0s 985us/step - loss: 764584832.0000 - mean_squared_error: 764584832.0000\n",
            "Epoch 36/100\n",
            "366/366 [==============================] - 0s 948us/step - loss: 764546240.0000 - mean_squared_error: 764546240.0000\n",
            "Epoch 37/100\n",
            "366/366 [==============================] - 0s 920us/step - loss: 764511424.0000 - mean_squared_error: 764511424.0000\n",
            "Epoch 38/100\n",
            "366/366 [==============================] - 0s 926us/step - loss: 764478016.0000 - mean_squared_error: 764478016.0000\n",
            "Epoch 39/100\n",
            "366/366 [==============================] - 0s 927us/step - loss: 764446656.0000 - mean_squared_error: 764446656.0000\n",
            "Epoch 40/100\n",
            "366/366 [==============================] - 0s 911us/step - loss: 764420352.0000 - mean_squared_error: 764420352.0000\n",
            "Epoch 41/100\n",
            "366/366 [==============================] - 0s 932us/step - loss: 764394560.0000 - mean_squared_error: 764394560.0000\n",
            "Epoch 42/100\n",
            "366/366 [==============================] - 0s 909us/step - loss: 764372288.0000 - mean_squared_error: 764372288.0000\n",
            "Epoch 43/100\n",
            "366/366 [==============================] - 0s 907us/step - loss: 764350080.0000 - mean_squared_error: 764350080.0000\n",
            "Epoch 44/100\n",
            "366/366 [==============================] - 0s 945us/step - loss: 764329984.0000 - mean_squared_error: 764329984.0000\n",
            "Epoch 45/100\n",
            "366/366 [==============================] - 0s 911us/step - loss: 764308992.0000 - mean_squared_error: 764308992.0000\n",
            "Epoch 46/100\n",
            "366/366 [==============================] - 0s 918us/step - loss: 764291008.0000 - mean_squared_error: 764291008.0000\n",
            "Epoch 47/100\n",
            "366/366 [==============================] - 0s 960us/step - loss: 764275392.0000 - mean_squared_error: 764275392.0000\n",
            "Epoch 48/100\n",
            "366/366 [==============================] - 0s 902us/step - loss: 764258752.0000 - mean_squared_error: 764258752.0000\n",
            "Epoch 49/100\n",
            "366/366 [==============================] - 0s 965us/step - loss: 764244160.0000 - mean_squared_error: 764244160.0000\n",
            "Epoch 50/100\n",
            "366/366 [==============================] - 0s 915us/step - loss: 764231808.0000 - mean_squared_error: 764231808.0000\n",
            "Epoch 51/100\n",
            "366/366 [==============================] - 0s 926us/step - loss: 764218816.0000 - mean_squared_error: 764218816.0000\n",
            "Epoch 52/100\n",
            "366/366 [==============================] - 0s 932us/step - loss: 764202880.0000 - mean_squared_error: 764202880.0000\n",
            "Epoch 53/100\n",
            "366/366 [==============================] - 0s 914us/step - loss: 764190592.0000 - mean_squared_error: 764190592.0000\n",
            "Epoch 54/100\n",
            "366/366 [==============================] - 0s 1ms/step - loss: 764179840.0000 - mean_squared_error: 764179840.0000\n",
            "Epoch 55/100\n",
            "366/366 [==============================] - 0s 1ms/step - loss: 764164736.0000 - mean_squared_error: 764164736.0000\n",
            "Epoch 56/100\n",
            "366/366 [==============================] - 0s 941us/step - loss: 764154688.0000 - mean_squared_error: 764154688.0000\n",
            "Epoch 57/100\n",
            "366/366 [==============================] - 0s 923us/step - loss: 764142336.0000 - mean_squared_error: 764142336.0000\n",
            "Epoch 58/100\n",
            "366/366 [==============================] - 0s 952us/step - loss: 764132544.0000 - mean_squared_error: 764132544.0000\n",
            "Epoch 59/100\n",
            "366/366 [==============================] - 0s 928us/step - loss: 764119296.0000 - mean_squared_error: 764119296.0000\n",
            "Epoch 60/100\n",
            "366/366 [==============================] - 0s 938us/step - loss: 764111488.0000 - mean_squared_error: 764111488.0000\n",
            "Epoch 61/100\n",
            "366/366 [==============================] - 0s 926us/step - loss: 764099456.0000 - mean_squared_error: 764099456.0000\n",
            "Epoch 62/100\n",
            "366/366 [==============================] - 0s 924us/step - loss: 764089664.0000 - mean_squared_error: 764089664.0000\n",
            "Epoch 63/100\n",
            "366/366 [==============================] - 0s 922us/step - loss: 764078208.0000 - mean_squared_error: 764078208.0000\n",
            "Epoch 64/100\n",
            "366/366 [==============================] - 0s 1ms/step - loss: 764068608.0000 - mean_squared_error: 764068608.0000\n",
            "Epoch 65/100\n",
            "366/366 [==============================] - 0s 993us/step - loss: 764057664.0000 - mean_squared_error: 764057664.0000\n",
            "Epoch 66/100\n",
            "366/366 [==============================] - 0s 1ms/step - loss: 764047424.0000 - mean_squared_error: 764047424.0000\n",
            "Epoch 67/100\n",
            "366/366 [==============================] - 0s 955us/step - loss: 764038336.0000 - mean_squared_error: 764038336.0000\n",
            "Epoch 68/100\n",
            "366/366 [==============================] - 0s 922us/step - loss: 764025728.0000 - mean_squared_error: 764025728.0000\n",
            "Epoch 69/100\n",
            "366/366 [==============================] - 0s 948us/step - loss: 764016128.0000 - mean_squared_error: 764016128.0000\n",
            "Epoch 70/100\n",
            "366/366 [==============================] - 0s 910us/step - loss: 764009216.0000 - mean_squared_error: 764009216.0000\n",
            "Epoch 71/100\n",
            "366/366 [==============================] - 0s 912us/step - loss: 763995200.0000 - mean_squared_error: 763995200.0000\n",
            "Epoch 72/100\n",
            "366/366 [==============================] - 0s 963us/step - loss: 763987456.0000 - mean_squared_error: 763987456.0000\n",
            "Epoch 73/100\n",
            "366/366 [==============================] - 0s 923us/step - loss: 763976832.0000 - mean_squared_error: 763976832.0000\n",
            "Epoch 74/100\n",
            "366/366 [==============================] - 0s 954us/step - loss: 763965696.0000 - mean_squared_error: 763965696.0000\n",
            "Epoch 75/100\n",
            "366/366 [==============================] - 0s 938us/step - loss: 763955840.0000 - mean_squared_error: 763955840.0000\n",
            "Epoch 76/100\n",
            "366/366 [==============================] - 0s 949us/step - loss: 763947904.0000 - mean_squared_error: 763947904.0000\n",
            "Epoch 77/100\n",
            "366/366 [==============================] - 0s 959us/step - loss: 763935104.0000 - mean_squared_error: 763935104.0000\n",
            "Epoch 78/100\n",
            "366/366 [==============================] - 0s 987us/step - loss: 763925440.0000 - mean_squared_error: 763925440.0000\n",
            "Epoch 79/100\n",
            "366/366 [==============================] - 0s 930us/step - loss: 763915200.0000 - mean_squared_error: 763915200.0000\n",
            "Epoch 80/100\n",
            "366/366 [==============================] - 0s 920us/step - loss: 763906176.0000 - mean_squared_error: 763906176.0000\n",
            "Epoch 81/100\n",
            "366/366 [==============================] - 0s 1ms/step - loss: 763897728.0000 - mean_squared_error: 763897728.0000\n",
            "Epoch 82/100\n",
            "366/366 [==============================] - 0s 1ms/step - loss: 763885568.0000 - mean_squared_error: 763885568.0000\n",
            "Epoch 83/100\n",
            "366/366 [==============================] - 0s 1ms/step - loss: 763875136.0000 - mean_squared_error: 763875136.0000\n",
            "Epoch 84/100\n",
            "366/366 [==============================] - 0s 989us/step - loss: 763862976.0000 - mean_squared_error: 763862976.0000\n",
            "Epoch 85/100\n",
            "366/366 [==============================] - 0s 897us/step - loss: 763854208.0000 - mean_squared_error: 763854208.0000\n",
            "Epoch 86/100\n",
            "366/366 [==============================] - 0s 947us/step - loss: 763844992.0000 - mean_squared_error: 763844992.0000\n",
            "Epoch 87/100\n",
            "366/366 [==============================] - 0s 946us/step - loss: 763833344.0000 - mean_squared_error: 763833344.0000\n",
            "Epoch 88/100\n",
            "366/366 [==============================] - 0s 908us/step - loss: 763822784.0000 - mean_squared_error: 763822784.0000\n",
            "Epoch 89/100\n",
            "366/366 [==============================] - 0s 969us/step - loss: 763811968.0000 - mean_squared_error: 763811968.0000\n",
            "Epoch 90/100\n",
            "366/366 [==============================] - 0s 937us/step - loss: 763801984.0000 - mean_squared_error: 763801984.0000\n",
            "Epoch 91/100\n",
            "366/366 [==============================] - 0s 942us/step - loss: 763792384.0000 - mean_squared_error: 763792384.0000\n",
            "Epoch 92/100\n",
            "366/366 [==============================] - 0s 933us/step - loss: 763780352.0000 - mean_squared_error: 763780352.0000\n",
            "Epoch 93/100\n",
            "366/366 [==============================] - 0s 906us/step - loss: 763771392.0000 - mean_squared_error: 763771392.0000\n",
            "Epoch 94/100\n",
            "366/366 [==============================] - 0s 927us/step - loss: 763763008.0000 - mean_squared_error: 763763008.0000\n",
            "Epoch 95/100\n",
            "366/366 [==============================] - 0s 960us/step - loss: 763748992.0000 - mean_squared_error: 763748992.0000\n",
            "Epoch 96/100\n",
            "366/366 [==============================] - 0s 941us/step - loss: 763738752.0000 - mean_squared_error: 763738752.0000\n",
            "Epoch 97/100\n",
            "366/366 [==============================] - 0s 963us/step - loss: 763728192.0000 - mean_squared_error: 763728192.0000\n",
            "Epoch 98/100\n",
            "366/366 [==============================] - 0s 994us/step - loss: 763720256.0000 - mean_squared_error: 763720256.0000\n",
            "Epoch 99/100\n",
            "366/366 [==============================] - 0s 991us/step - loss: 763711360.0000 - mean_squared_error: 763711360.0000\n",
            "Epoch 100/100\n",
            "366/366 [==============================] - 0s 929us/step - loss: 763699904.0000 - mean_squared_error: 763699904.0000\n",
            "Model: \"sequential_6\"\n",
            "_________________________________________________________________\n",
            "Layer (type)                 Output Shape              Param #   \n",
            "=================================================================\n",
            "dense_18 (Dense)             (None, 6)                 54        \n",
            "_________________________________________________________________\n",
            "dense_19 (Dense)             (None, 6)                 42        \n",
            "_________________________________________________________________\n",
            "dense_20 (Dense)             (None, 1)                 7         \n",
            "=================================================================\n",
            "Total params: 103\n",
            "Trainable params: 103\n",
            "Non-trainable params: 0\n",
            "_________________________________________________________________\n",
            "Mean Absolute Error: 3233.792188889342\n",
            "Mean Squared Error: 830111132.6619459\n",
            "Root Mean Squared Error: 28811.64925272321\n"
          ],
          "name": "stdout"
        }
      ]
    },
    {
      "cell_type": "code",
      "metadata": {
        "id": "fhmz9bNE4kxE"
      },
      "source": [
        "#Saving Scikitlearn models\n",
        "import joblib\n",
        "joblib.dump(decision_tree, \"decision_treeadview.pkl\")\n",
        "# Saving Keras Artificial Neural Network model\n",
        "ann.save(\"ann_youtubeadview.h5\")"
      ],
      "execution_count": null,
      "outputs": []
    },
    {
      "cell_type": "code",
      "metadata": {
        "id": "GxFhwoSf41X2"
      },
      "source": [
        "#reading the test dataset\n",
        "test=pd.read_csv(\"/content/drive/MyDrive/test.csv\")"
      ],
      "execution_count": null,
      "outputs": []
    },
    {
      "cell_type": "code",
      "metadata": {
        "colab": {
          "base_uri": "https://localhost:8080/",
          "height": 204
        },
        "id": "sTvyYD_M4-jG",
        "outputId": "95d9d43e-9ef7-4782-fdf8-7a8bd9a67cd4"
      },
      "source": [
        "#printing first five entries of the test dataset\n",
        "test.head()"
      ],
      "execution_count": null,
      "outputs": [
        {
          "output_type": "execute_result",
          "data": {
            "text/html": [
              "<div>\n",
              "<style scoped>\n",
              "    .dataframe tbody tr th:only-of-type {\n",
              "        vertical-align: middle;\n",
              "    }\n",
              "\n",
              "    .dataframe tbody tr th {\n",
              "        vertical-align: top;\n",
              "    }\n",
              "\n",
              "    .dataframe thead th {\n",
              "        text-align: right;\n",
              "    }\n",
              "</style>\n",
              "<table border=\"1\" class=\"dataframe\">\n",
              "  <thead>\n",
              "    <tr style=\"text-align: right;\">\n",
              "      <th></th>\n",
              "      <th>vidid</th>\n",
              "      <th>views</th>\n",
              "      <th>likes</th>\n",
              "      <th>dislikes</th>\n",
              "      <th>comment</th>\n",
              "      <th>published</th>\n",
              "      <th>duration</th>\n",
              "      <th>category</th>\n",
              "    </tr>\n",
              "  </thead>\n",
              "  <tbody>\n",
              "    <tr>\n",
              "      <th>0</th>\n",
              "      <td>VID_1054</td>\n",
              "      <td>440238</td>\n",
              "      <td>6153</td>\n",
              "      <td>218</td>\n",
              "      <td>1377</td>\n",
              "      <td>2017-02-18</td>\n",
              "      <td>PT7M29S</td>\n",
              "      <td>B</td>\n",
              "    </tr>\n",
              "    <tr>\n",
              "      <th>1</th>\n",
              "      <td>VID_18629</td>\n",
              "      <td>1040132</td>\n",
              "      <td>8171</td>\n",
              "      <td>340</td>\n",
              "      <td>1047</td>\n",
              "      <td>2016-06-28</td>\n",
              "      <td>PT6M29S</td>\n",
              "      <td>F</td>\n",
              "    </tr>\n",
              "    <tr>\n",
              "      <th>2</th>\n",
              "      <td>VID_13967</td>\n",
              "      <td>28534</td>\n",
              "      <td>31</td>\n",
              "      <td>11</td>\n",
              "      <td>1</td>\n",
              "      <td>2014-03-10</td>\n",
              "      <td>PT37M54S</td>\n",
              "      <td>D</td>\n",
              "    </tr>\n",
              "    <tr>\n",
              "      <th>3</th>\n",
              "      <td>VID_19442</td>\n",
              "      <td>1316715</td>\n",
              "      <td>2284</td>\n",
              "      <td>250</td>\n",
              "      <td>274</td>\n",
              "      <td>2010-06-05</td>\n",
              "      <td>PT9M55S</td>\n",
              "      <td>G</td>\n",
              "    </tr>\n",
              "    <tr>\n",
              "      <th>4</th>\n",
              "      <td>VID_770</td>\n",
              "      <td>1893173</td>\n",
              "      <td>2519</td>\n",
              "      <td>225</td>\n",
              "      <td>116</td>\n",
              "      <td>2016-09-03</td>\n",
              "      <td>PT3M8S</td>\n",
              "      <td>B</td>\n",
              "    </tr>\n",
              "  </tbody>\n",
              "</table>\n",
              "</div>"
            ],
            "text/plain": [
              "       vidid    views likes dislikes comment   published  duration category\n",
              "0   VID_1054   440238  6153      218    1377  2017-02-18   PT7M29S        B\n",
              "1  VID_18629  1040132  8171      340    1047  2016-06-28   PT6M29S        F\n",
              "2  VID_13967    28534    31       11       1  2014-03-10  PT37M54S        D\n",
              "3  VID_19442  1316715  2284      250     274  2010-06-05   PT9M55S        G\n",
              "4    VID_770  1893173  2519      225     116  2016-09-03    PT3M8S        B"
            ]
          },
          "metadata": {
            "tags": []
          },
          "execution_count": 260
        }
      ]
    },
    {
      "cell_type": "code",
      "metadata": {
        "colab": {
          "base_uri": "https://localhost:8080/"
        },
        "id": "STnwyWplFwTN",
        "outputId": "32ac041b-b4ad-477f-c12b-2cd01b3685d3"
      },
      "source": [
        "#printing row and column count of the test dataset\n",
        "test.shape"
      ],
      "execution_count": null,
      "outputs": [
        {
          "output_type": "execute_result",
          "data": {
            "text/plain": [
              "(8764, 8)"
            ]
          },
          "metadata": {
            "tags": []
          },
          "execution_count": 261
        }
      ]
    },
    {
      "cell_type": "code",
      "metadata": {
        "colab": {
          "base_uri": "https://localhost:8080/",
          "height": 204
        },
        "id": "bzCLGuux5A8Y",
        "outputId": "c0428345-71df-4371-8b2d-f5ff96a1538c"
      },
      "source": [
        "# Removing character \"F\" present in data\n",
        "#this is done to remove the missing characters in the dataset\n",
        "test=test[test.views!='F']\n",
        "test=test[test.likes!='F']\n",
        "test=test[test.dislikes!='F']\n",
        "test=test[test.comment!='F']\n",
        "test.head()\n",
        "# Assigning each category a number for Category feature i.e A to 1,B to 2 and so on...\n",
        "category={'A': 1,'B':2,'C':3,'D':4,'E':5,'F':6,'G':7,'H':8}\n",
        "test[\"category\"]=test[\"category\"].map(category)\n",
        "test.head()\n"
      ],
      "execution_count": null,
      "outputs": [
        {
          "output_type": "execute_result",
          "data": {
            "text/html": [
              "<div>\n",
              "<style scoped>\n",
              "    .dataframe tbody tr th:only-of-type {\n",
              "        vertical-align: middle;\n",
              "    }\n",
              "\n",
              "    .dataframe tbody tr th {\n",
              "        vertical-align: top;\n",
              "    }\n",
              "\n",
              "    .dataframe thead th {\n",
              "        text-align: right;\n",
              "    }\n",
              "</style>\n",
              "<table border=\"1\" class=\"dataframe\">\n",
              "  <thead>\n",
              "    <tr style=\"text-align: right;\">\n",
              "      <th></th>\n",
              "      <th>vidid</th>\n",
              "      <th>views</th>\n",
              "      <th>likes</th>\n",
              "      <th>dislikes</th>\n",
              "      <th>comment</th>\n",
              "      <th>published</th>\n",
              "      <th>duration</th>\n",
              "      <th>category</th>\n",
              "    </tr>\n",
              "  </thead>\n",
              "  <tbody>\n",
              "    <tr>\n",
              "      <th>0</th>\n",
              "      <td>VID_1054</td>\n",
              "      <td>440238</td>\n",
              "      <td>6153</td>\n",
              "      <td>218</td>\n",
              "      <td>1377</td>\n",
              "      <td>2017-02-18</td>\n",
              "      <td>PT7M29S</td>\n",
              "      <td>2</td>\n",
              "    </tr>\n",
              "    <tr>\n",
              "      <th>1</th>\n",
              "      <td>VID_18629</td>\n",
              "      <td>1040132</td>\n",
              "      <td>8171</td>\n",
              "      <td>340</td>\n",
              "      <td>1047</td>\n",
              "      <td>2016-06-28</td>\n",
              "      <td>PT6M29S</td>\n",
              "      <td>6</td>\n",
              "    </tr>\n",
              "    <tr>\n",
              "      <th>2</th>\n",
              "      <td>VID_13967</td>\n",
              "      <td>28534</td>\n",
              "      <td>31</td>\n",
              "      <td>11</td>\n",
              "      <td>1</td>\n",
              "      <td>2014-03-10</td>\n",
              "      <td>PT37M54S</td>\n",
              "      <td>4</td>\n",
              "    </tr>\n",
              "    <tr>\n",
              "      <th>3</th>\n",
              "      <td>VID_19442</td>\n",
              "      <td>1316715</td>\n",
              "      <td>2284</td>\n",
              "      <td>250</td>\n",
              "      <td>274</td>\n",
              "      <td>2010-06-05</td>\n",
              "      <td>PT9M55S</td>\n",
              "      <td>7</td>\n",
              "    </tr>\n",
              "    <tr>\n",
              "      <th>4</th>\n",
              "      <td>VID_770</td>\n",
              "      <td>1893173</td>\n",
              "      <td>2519</td>\n",
              "      <td>225</td>\n",
              "      <td>116</td>\n",
              "      <td>2016-09-03</td>\n",
              "      <td>PT3M8S</td>\n",
              "      <td>2</td>\n",
              "    </tr>\n",
              "  </tbody>\n",
              "</table>\n",
              "</div>"
            ],
            "text/plain": [
              "       vidid    views likes dislikes comment   published  duration  category\n",
              "0   VID_1054   440238  6153      218    1377  2017-02-18   PT7M29S         2\n",
              "1  VID_18629  1040132  8171      340    1047  2016-06-28   PT6M29S         6\n",
              "2  VID_13967    28534    31       11       1  2014-03-10  PT37M54S         4\n",
              "3  VID_19442  1316715  2284      250     274  2010-06-05   PT9M55S         7\n",
              "4    VID_770  1893173  2519      225     116  2016-09-03    PT3M8S         2"
            ]
          },
          "metadata": {
            "tags": []
          },
          "execution_count": 262
        }
      ]
    },
    {
      "cell_type": "code",
      "metadata": {
        "colab": {
          "base_uri": "https://localhost:8080/",
          "height": 204
        },
        "id": "GLYpR2ci5JGN",
        "outputId": "8518a2d9-821e-4fa8-d2b9-f7c83c7af300"
      },
      "source": [
        "#Convert values to integers for views, likes, comments, dislikes and adview\n",
        "test[\"views\"] = pd.to_numeric(test[\"views\"])\n",
        "test[\"comment\"] = pd.to_numeric(test[\"comment\"])\n",
        "test[\"likes\"] = pd.to_numeric(test[\"likes\"])\n",
        "test[\"dislikes\"] = pd.to_numeric(test[\"dislikes\"])\n",
        "#test[\"adview\"]=pd.to_numeric(test[\"adview\"])\n",
        "column_vidid=test['vidid']\n",
        "# Endoding features like Category, Duration, Vidid\n",
        "from sklearn.preprocessing import LabelEncoder\n",
        "test['duration']=LabelEncoder().fit_transform(test['duration'])\n",
        "test['vidid']=LabelEncoder().fit_transform(test['vidid'])\n",
        "test['published']=LabelEncoder().fit_transform(test['published'])\n",
        "test.head()\n"
      ],
      "execution_count": null,
      "outputs": [
        {
          "output_type": "execute_result",
          "data": {
            "text/html": [
              "<div>\n",
              "<style scoped>\n",
              "    .dataframe tbody tr th:only-of-type {\n",
              "        vertical-align: middle;\n",
              "    }\n",
              "\n",
              "    .dataframe tbody tr th {\n",
              "        vertical-align: top;\n",
              "    }\n",
              "\n",
              "    .dataframe thead th {\n",
              "        text-align: right;\n",
              "    }\n",
              "</style>\n",
              "<table border=\"1\" class=\"dataframe\">\n",
              "  <thead>\n",
              "    <tr style=\"text-align: right;\">\n",
              "      <th></th>\n",
              "      <th>vidid</th>\n",
              "      <th>views</th>\n",
              "      <th>likes</th>\n",
              "      <th>dislikes</th>\n",
              "      <th>comment</th>\n",
              "      <th>published</th>\n",
              "      <th>duration</th>\n",
              "      <th>category</th>\n",
              "    </tr>\n",
              "  </thead>\n",
              "  <tbody>\n",
              "    <tr>\n",
              "      <th>0</th>\n",
              "      <td>231</td>\n",
              "      <td>440238</td>\n",
              "      <td>6153</td>\n",
              "      <td>218</td>\n",
              "      <td>1377</td>\n",
              "      <td>2053</td>\n",
              "      <td>2115</td>\n",
              "      <td>2</td>\n",
              "    </tr>\n",
              "    <tr>\n",
              "      <th>1</th>\n",
              "      <td>3444</td>\n",
              "      <td>1040132</td>\n",
              "      <td>8171</td>\n",
              "      <td>340</td>\n",
              "      <td>1047</td>\n",
              "      <td>1825</td>\n",
              "      <td>2055</td>\n",
              "      <td>6</td>\n",
              "    </tr>\n",
              "    <tr>\n",
              "      <th>2</th>\n",
              "      <td>1593</td>\n",
              "      <td>28534</td>\n",
              "      <td>31</td>\n",
              "      <td>11</td>\n",
              "      <td>1</td>\n",
              "      <td>1009</td>\n",
              "      <td>1506</td>\n",
              "      <td>4</td>\n",
              "    </tr>\n",
              "    <tr>\n",
              "      <th>3</th>\n",
              "      <td>3775</td>\n",
              "      <td>1316715</td>\n",
              "      <td>2284</td>\n",
              "      <td>250</td>\n",
              "      <td>274</td>\n",
              "      <td>116</td>\n",
              "      <td>2265</td>\n",
              "      <td>7</td>\n",
              "    </tr>\n",
              "    <tr>\n",
              "      <th>4</th>\n",
              "      <td>7644</td>\n",
              "      <td>1893173</td>\n",
              "      <td>2519</td>\n",
              "      <td>225</td>\n",
              "      <td>116</td>\n",
              "      <td>1892</td>\n",
              "      <td>1625</td>\n",
              "      <td>2</td>\n",
              "    </tr>\n",
              "  </tbody>\n",
              "</table>\n",
              "</div>"
            ],
            "text/plain": [
              "   vidid    views  likes  dislikes  comment  published  duration  category\n",
              "0    231   440238   6153       218     1377       2053      2115         2\n",
              "1   3444  1040132   8171       340     1047       1825      2055         6\n",
              "2   1593    28534     31        11        1       1009      1506         4\n",
              "3   3775  1316715   2284       250      274        116      2265         7\n",
              "4   7644  1893173   2519       225      116       1892      1625         2"
            ]
          },
          "metadata": {
            "tags": []
          },
          "execution_count": 263
        }
      ]
    },
    {
      "cell_type": "code",
      "metadata": {
        "colab": {
          "base_uri": "https://localhost:8080/",
          "height": 204
        },
        "id": "9T5ltf8K5POi",
        "outputId": "517c1cbf-d729-46ef-8fc4-b346f129f0a1"
      },
      "source": [
        "# Convert Time_in_sec for duration\n",
        "import datetime\n",
        "import time\n",
        "def checki(x):\n",
        "   y = x[2:]\n",
        "   h = ''\n",
        "   m = ''\n",
        "   s = ''\n",
        "   mm = ''\n",
        "   P = ['H','M','S']\n",
        "   for i in y:\n",
        "     if i not in P:\n",
        "       mm+=i\n",
        "     else:\n",
        "       if(i==\"H\"):\n",
        "         h = mm\n",
        "         mm = ''\n",
        "       elif(i == \"M\"):\n",
        "         m = mm\n",
        "         mm = ''\n",
        "       else:\n",
        "         s = mm\n",
        "         mm = ''\n",
        "   if(h==''):\n",
        "     h = '00'\n",
        "   if(m == ''):\n",
        "     m = '00'\n",
        "   if(s==''):\n",
        "     s='00'\n",
        "   bp = h+':'+m+':'+s\n",
        "   return bp\n",
        "train=pd.read_csv(\"/content/drive/MyDrive/test.csv\")\n",
        "mp = pd.read_csv( \"/content/drive/MyDrive/test.csv\")[\"duration\"]\n",
        "time = mp.apply(checki)\n",
        "def func_sec(time_string):\n",
        "   h, m, s = time_string.split(':')\n",
        "   return int(h) * 3600 + int(m) * 60 + int(s)\n",
        "time1=time.apply(func_sec)\n",
        "test[\"duration\"]=time1\n",
        "test.head()\n"
      ],
      "execution_count": null,
      "outputs": [
        {
          "output_type": "execute_result",
          "data": {
            "text/html": [
              "<div>\n",
              "<style scoped>\n",
              "    .dataframe tbody tr th:only-of-type {\n",
              "        vertical-align: middle;\n",
              "    }\n",
              "\n",
              "    .dataframe tbody tr th {\n",
              "        vertical-align: top;\n",
              "    }\n",
              "\n",
              "    .dataframe thead th {\n",
              "        text-align: right;\n",
              "    }\n",
              "</style>\n",
              "<table border=\"1\" class=\"dataframe\">\n",
              "  <thead>\n",
              "    <tr style=\"text-align: right;\">\n",
              "      <th></th>\n",
              "      <th>vidid</th>\n",
              "      <th>views</th>\n",
              "      <th>likes</th>\n",
              "      <th>dislikes</th>\n",
              "      <th>comment</th>\n",
              "      <th>published</th>\n",
              "      <th>duration</th>\n",
              "      <th>category</th>\n",
              "    </tr>\n",
              "  </thead>\n",
              "  <tbody>\n",
              "    <tr>\n",
              "      <th>0</th>\n",
              "      <td>231</td>\n",
              "      <td>440238</td>\n",
              "      <td>6153</td>\n",
              "      <td>218</td>\n",
              "      <td>1377</td>\n",
              "      <td>2053</td>\n",
              "      <td>449</td>\n",
              "      <td>2</td>\n",
              "    </tr>\n",
              "    <tr>\n",
              "      <th>1</th>\n",
              "      <td>3444</td>\n",
              "      <td>1040132</td>\n",
              "      <td>8171</td>\n",
              "      <td>340</td>\n",
              "      <td>1047</td>\n",
              "      <td>1825</td>\n",
              "      <td>389</td>\n",
              "      <td>6</td>\n",
              "    </tr>\n",
              "    <tr>\n",
              "      <th>2</th>\n",
              "      <td>1593</td>\n",
              "      <td>28534</td>\n",
              "      <td>31</td>\n",
              "      <td>11</td>\n",
              "      <td>1</td>\n",
              "      <td>1009</td>\n",
              "      <td>2274</td>\n",
              "      <td>4</td>\n",
              "    </tr>\n",
              "    <tr>\n",
              "      <th>3</th>\n",
              "      <td>3775</td>\n",
              "      <td>1316715</td>\n",
              "      <td>2284</td>\n",
              "      <td>250</td>\n",
              "      <td>274</td>\n",
              "      <td>116</td>\n",
              "      <td>595</td>\n",
              "      <td>7</td>\n",
              "    </tr>\n",
              "    <tr>\n",
              "      <th>4</th>\n",
              "      <td>7644</td>\n",
              "      <td>1893173</td>\n",
              "      <td>2519</td>\n",
              "      <td>225</td>\n",
              "      <td>116</td>\n",
              "      <td>1892</td>\n",
              "      <td>188</td>\n",
              "      <td>2</td>\n",
              "    </tr>\n",
              "  </tbody>\n",
              "</table>\n",
              "</div>"
            ],
            "text/plain": [
              "   vidid    views  likes  dislikes  comment  published  duration  category\n",
              "0    231   440238   6153       218     1377       2053       449         2\n",
              "1   3444  1040132   8171       340     1047       1825       389         6\n",
              "2   1593    28534     31        11        1       1009      2274         4\n",
              "3   3775  1316715   2284       250      274        116       595         7\n",
              "4   7644  1893173   2519       225      116       1892       188         2"
            ]
          },
          "metadata": {
            "tags": []
          },
          "execution_count": 264
        }
      ]
    },
    {
      "cell_type": "code",
      "metadata": {
        "colab": {
          "base_uri": "https://localhost:8080/",
          "height": 204
        },
        "id": "SXVSw68sagdz",
        "outputId": "07137a99-3265-4da6-844a-31f18ee09cee"
      },
      "source": [
        "# Split Data and drop specific columns \n",
        "Ytrain = pd.DataFrame(data = test.iloc[:, 1].values, columns = ['target'])\n",
        "#test=test.drop([\"adview\"],axis=1)\n",
        "test.head()"
      ],
      "execution_count": null,
      "outputs": [
        {
          "output_type": "execute_result",
          "data": {
            "text/html": [
              "<div>\n",
              "<style scoped>\n",
              "    .dataframe tbody tr th:only-of-type {\n",
              "        vertical-align: middle;\n",
              "    }\n",
              "\n",
              "    .dataframe tbody tr th {\n",
              "        vertical-align: top;\n",
              "    }\n",
              "\n",
              "    .dataframe thead th {\n",
              "        text-align: right;\n",
              "    }\n",
              "</style>\n",
              "<table border=\"1\" class=\"dataframe\">\n",
              "  <thead>\n",
              "    <tr style=\"text-align: right;\">\n",
              "      <th></th>\n",
              "      <th>vidid</th>\n",
              "      <th>views</th>\n",
              "      <th>likes</th>\n",
              "      <th>dislikes</th>\n",
              "      <th>comment</th>\n",
              "      <th>published</th>\n",
              "      <th>duration</th>\n",
              "      <th>category</th>\n",
              "    </tr>\n",
              "  </thead>\n",
              "  <tbody>\n",
              "    <tr>\n",
              "      <th>0</th>\n",
              "      <td>231</td>\n",
              "      <td>440238</td>\n",
              "      <td>6153</td>\n",
              "      <td>218</td>\n",
              "      <td>1377</td>\n",
              "      <td>2053</td>\n",
              "      <td>449</td>\n",
              "      <td>2</td>\n",
              "    </tr>\n",
              "    <tr>\n",
              "      <th>1</th>\n",
              "      <td>3444</td>\n",
              "      <td>1040132</td>\n",
              "      <td>8171</td>\n",
              "      <td>340</td>\n",
              "      <td>1047</td>\n",
              "      <td>1825</td>\n",
              "      <td>389</td>\n",
              "      <td>6</td>\n",
              "    </tr>\n",
              "    <tr>\n",
              "      <th>2</th>\n",
              "      <td>1593</td>\n",
              "      <td>28534</td>\n",
              "      <td>31</td>\n",
              "      <td>11</td>\n",
              "      <td>1</td>\n",
              "      <td>1009</td>\n",
              "      <td>2274</td>\n",
              "      <td>4</td>\n",
              "    </tr>\n",
              "    <tr>\n",
              "      <th>3</th>\n",
              "      <td>3775</td>\n",
              "      <td>1316715</td>\n",
              "      <td>2284</td>\n",
              "      <td>250</td>\n",
              "      <td>274</td>\n",
              "      <td>116</td>\n",
              "      <td>595</td>\n",
              "      <td>7</td>\n",
              "    </tr>\n",
              "    <tr>\n",
              "      <th>4</th>\n",
              "      <td>7644</td>\n",
              "      <td>1893173</td>\n",
              "      <td>2519</td>\n",
              "      <td>225</td>\n",
              "      <td>116</td>\n",
              "      <td>1892</td>\n",
              "      <td>188</td>\n",
              "      <td>2</td>\n",
              "    </tr>\n",
              "  </tbody>\n",
              "</table>\n",
              "</div>"
            ],
            "text/plain": [
              "   vidid    views  likes  dislikes  comment  published  duration  category\n",
              "0    231   440238   6153       218     1377       2053       449         2\n",
              "1   3444  1040132   8171       340     1047       1825       389         6\n",
              "2   1593    28534     31        11        1       1009      2274         4\n",
              "3   3775  1316715   2284       250      274        116       595         7\n",
              "4   7644  1893173   2519       225      116       1892       188         2"
            ]
          },
          "metadata": {
            "tags": []
          },
          "execution_count": 265
        }
      ]
    },
    {
      "cell_type": "code",
      "metadata": {
        "colab": {
          "base_uri": "https://localhost:8080/",
          "height": 419
        },
        "id": "EuVNVHOoakIH",
        "outputId": "b3231db5-ed12-46ae-a00d-2041d4201566"
      },
      "source": [
        "#splitting the dataset into train and test \n",
        "from sklearn.model_selection import train_test_split\n",
        "Xtrain, Xtest, Ytrain, ytest = train_test_split(test, Ytrain, test_size=0.2, random_state=42)\n",
        "Xtrain"
      ],
      "execution_count": null,
      "outputs": [
        {
          "output_type": "execute_result",
          "data": {
            "text/html": [
              "<div>\n",
              "<style scoped>\n",
              "    .dataframe tbody tr th:only-of-type {\n",
              "        vertical-align: middle;\n",
              "    }\n",
              "\n",
              "    .dataframe tbody tr th {\n",
              "        vertical-align: top;\n",
              "    }\n",
              "\n",
              "    .dataframe thead th {\n",
              "        text-align: right;\n",
              "    }\n",
              "</style>\n",
              "<table border=\"1\" class=\"dataframe\">\n",
              "  <thead>\n",
              "    <tr style=\"text-align: right;\">\n",
              "      <th></th>\n",
              "      <th>vidid</th>\n",
              "      <th>views</th>\n",
              "      <th>likes</th>\n",
              "      <th>dislikes</th>\n",
              "      <th>comment</th>\n",
              "      <th>published</th>\n",
              "      <th>duration</th>\n",
              "      <th>category</th>\n",
              "    </tr>\n",
              "  </thead>\n",
              "  <tbody>\n",
              "    <tr>\n",
              "      <th>764</th>\n",
              "      <td>783</td>\n",
              "      <td>1511094</td>\n",
              "      <td>14656</td>\n",
              "      <td>1704</td>\n",
              "      <td>765</td>\n",
              "      <td>1902</td>\n",
              "      <td>337</td>\n",
              "      <td>4</td>\n",
              "    </tr>\n",
              "    <tr>\n",
              "      <th>3615</th>\n",
              "      <td>1999</td>\n",
              "      <td>810581</td>\n",
              "      <td>6010</td>\n",
              "      <td>117</td>\n",
              "      <td>240</td>\n",
              "      <td>1474</td>\n",
              "      <td>30</td>\n",
              "      <td>4</td>\n",
              "    </tr>\n",
              "    <tr>\n",
              "      <th>2257</th>\n",
              "      <td>6150</td>\n",
              "      <td>1066727</td>\n",
              "      <td>1328</td>\n",
              "      <td>258</td>\n",
              "      <td>77</td>\n",
              "      <td>1975</td>\n",
              "      <td>620</td>\n",
              "      <td>4</td>\n",
              "    </tr>\n",
              "    <tr>\n",
              "      <th>8028</th>\n",
              "      <td>4949</td>\n",
              "      <td>763316</td>\n",
              "      <td>4317</td>\n",
              "      <td>189</td>\n",
              "      <td>359</td>\n",
              "      <td>1444</td>\n",
              "      <td>244</td>\n",
              "      <td>7</td>\n",
              "    </tr>\n",
              "    <tr>\n",
              "      <th>3462</th>\n",
              "      <td>1018</td>\n",
              "      <td>178706</td>\n",
              "      <td>409</td>\n",
              "      <td>21</td>\n",
              "      <td>89</td>\n",
              "      <td>531</td>\n",
              "      <td>318</td>\n",
              "      <td>4</td>\n",
              "    </tr>\n",
              "    <tr>\n",
              "      <th>...</th>\n",
              "      <td>...</td>\n",
              "      <td>...</td>\n",
              "      <td>...</td>\n",
              "      <td>...</td>\n",
              "      <td>...</td>\n",
              "      <td>...</td>\n",
              "      <td>...</td>\n",
              "      <td>...</td>\n",
              "    </tr>\n",
              "    <tr>\n",
              "      <th>5881</th>\n",
              "      <td>7122</td>\n",
              "      <td>985837</td>\n",
              "      <td>2212</td>\n",
              "      <td>218</td>\n",
              "      <td>74</td>\n",
              "      <td>1014</td>\n",
              "      <td>647</td>\n",
              "      <td>4</td>\n",
              "    </tr>\n",
              "    <tr>\n",
              "      <th>5322</th>\n",
              "      <td>4946</td>\n",
              "      <td>83362</td>\n",
              "      <td>629</td>\n",
              "      <td>6</td>\n",
              "      <td>29</td>\n",
              "      <td>1641</td>\n",
              "      <td>300</td>\n",
              "      <td>7</td>\n",
              "    </tr>\n",
              "    <tr>\n",
              "      <th>5529</th>\n",
              "      <td>6859</td>\n",
              "      <td>345295</td>\n",
              "      <td>1785</td>\n",
              "      <td>82</td>\n",
              "      <td>182</td>\n",
              "      <td>1410</td>\n",
              "      <td>199</td>\n",
              "      <td>4</td>\n",
              "    </tr>\n",
              "    <tr>\n",
              "      <th>875</th>\n",
              "      <td>8223</td>\n",
              "      <td>197700</td>\n",
              "      <td>2771</td>\n",
              "      <td>156</td>\n",
              "      <td>110</td>\n",
              "      <td>2067</td>\n",
              "      <td>136</td>\n",
              "      <td>4</td>\n",
              "    </tr>\n",
              "    <tr>\n",
              "      <th>7452</th>\n",
              "      <td>5552</td>\n",
              "      <td>2234895</td>\n",
              "      <td>4065</td>\n",
              "      <td>811</td>\n",
              "      <td>207</td>\n",
              "      <td>1334</td>\n",
              "      <td>143</td>\n",
              "      <td>3</td>\n",
              "    </tr>\n",
              "  </tbody>\n",
              "</table>\n",
              "<p>6839 rows × 8 columns</p>\n",
              "</div>"
            ],
            "text/plain": [
              "      vidid    views  likes  dislikes  comment  published  duration  category\n",
              "764     783  1511094  14656      1704      765       1902       337         4\n",
              "3615   1999   810581   6010       117      240       1474        30         4\n",
              "2257   6150  1066727   1328       258       77       1975       620         4\n",
              "8028   4949   763316   4317       189      359       1444       244         7\n",
              "3462   1018   178706    409        21       89        531       318         4\n",
              "...     ...      ...    ...       ...      ...        ...       ...       ...\n",
              "5881   7122   985837   2212       218       74       1014       647         4\n",
              "5322   4946    83362    629         6       29       1641       300         7\n",
              "5529   6859   345295   1785        82      182       1410       199         4\n",
              "875    8223   197700   2771       156      110       2067       136         4\n",
              "7452   5552  2234895   4065       811      207       1334       143         3\n",
              "\n",
              "[6839 rows x 8 columns]"
            ]
          },
          "metadata": {
            "tags": []
          },
          "execution_count": 266
        }
      ]
    },
    {
      "cell_type": "code",
      "metadata": {
        "colab": {
          "base_uri": "https://localhost:8080/"
        },
        "id": "EoW9yaOGaszV",
        "outputId": "7966851b-f86b-46e9-a606-68f2106ed096"
      },
      "source": [
        "# Normalise Data\n",
        "from sklearn.preprocessing import MinMaxScaler\n",
        "scaler = MinMaxScaler()\n",
        "#The MinMaxScaler transforms the features by scaling them to a given range\n",
        "Xtrain=scaler.fit_transform(Xtrain)\n",
        "Xtest=scaler.fit_transform(Xtest)\n",
        "Xtrain.mean()"
      ],
      "execution_count": null,
      "outputs": [
        {
          "output_type": "execute_result",
          "data": {
            "text/plain": [
              "0.21052439011735335"
            ]
          },
          "metadata": {
            "tags": []
          },
          "execution_count": 267
        }
      ]
    },
    {
      "cell_type": "code",
      "metadata": {
        "id": "CHWVqPLD6n8t"
      },
      "source": [
        "from sklearn.externals import joblib \n",
        "  \n",
        "# Save the model as a pickle in a file \n",
        "joblib.dump(decision_tree, 'decision_treeadview.pkl') \n",
        "  \n",
        "# Load the model from the file \n",
        "decision_tree_from_joblib = joblib.load('decision_treeadview.pkl')  "
      ],
      "execution_count": null,
      "outputs": []
    },
    {
      "cell_type": "code",
      "metadata": {
        "colab": {
          "base_uri": "https://localhost:8080/"
        },
        "id": "7HtbOl4D7bxM",
        "outputId": "85ea01b6-8bb9-4d5b-f945-edac64a8f1f7"
      },
      "source": [
        "#here we hvae used Xtrain from the test.csv to make predictions\n",
        "res=decision_tree_from_joblib.predict(Xtrain)\n",
        "print(res) "
      ],
      "execution_count": null,
      "outputs": [
        {
          "output_type": "stream",
          "text": [
            "[79.  1.  1. ...  2.  2.  1.]\n"
          ],
          "name": "stdout"
        }
      ]
    },
    {
      "cell_type": "code",
      "metadata": {
        "id": "0wm-XmqM7rkJ"
      },
      "source": [
        "from numpy import asarray\n",
        "from numpy import savetxt\n",
        "# define data\n",
        "data = res\n",
        "# save to csv file\n",
        "savetxt('predictedadview.csv', data, delimiter=',')"
      ],
      "execution_count": null,
      "outputs": []
    },
    {
      "cell_type": "code",
      "metadata": {
        "colab": {
          "base_uri": "https://localhost:8080/"
        },
        "id": "f9RMpDHh71YE",
        "outputId": "1ca10936-dabc-4390-d1c0-afb4530b8f1e"
      },
      "source": [
        "#displaying the first 200 predicted values \n",
        "df=pd.read_csv(\"/content/predictedadview.csv\")\n",
        "print(df.head(200))"
      ],
      "execution_count": null,
      "outputs": [
        {
          "output_type": "stream",
          "text": [
            "     7.900000000000000000e+01\n",
            "0                         1.0\n",
            "1                         1.0\n",
            "2                     13350.0\n",
            "3                         3.0\n",
            "4                        47.0\n",
            "..                        ...\n",
            "195                      11.0\n",
            "196                       1.0\n",
            "197                       1.0\n",
            "198                       1.0\n",
            "199                   35894.0\n",
            "\n",
            "[200 rows x 1 columns]\n"
          ],
          "name": "stdout"
        }
      ]
    },
    {
      "cell_type": "code",
      "metadata": {
        "colab": {
          "base_uri": "https://localhost:8080/"
        },
        "id": "lowR8bj-hRhU",
        "outputId": "d7d8a3d3-b7f9-42da-9117-fd1aa27de484"
      },
      "source": [
        "#displaying predictions directly form test dataset\n",
        "result=decision_tree_from_joblib.predict(test)\n",
        "print(result) "
      ],
      "execution_count": null,
      "outputs": [
        {
          "output_type": "stream",
          "text": [
            "[58. 58. 58. ... 58. 58. 58.]\n"
          ],
          "name": "stdout"
        }
      ]
    }
  ]
}